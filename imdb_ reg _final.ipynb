{
 "cells": [
  {
   "cell_type": "markdown",
   "metadata": {},
   "source": [
    "# Important Libraries:"
   ]
  },
  {
   "cell_type": "code",
   "execution_count": 1,
   "metadata": {},
   "outputs": [],
   "source": [
    "from bs4 import BeautifulSoup\n",
    "import requests\n",
    "import re\n",
    "import pandas as pd\n",
    "import numpy  as np"
   ]
  },
  {
   "cell_type": "code",
   "execution_count": 2,
   "metadata": {},
   "outputs": [],
   "source": [
    "mov_names = []\n",
    "years =[]\n",
    "mov_type = []\n",
    "imdb_rat= []\n",
    "time= []\n",
    "mt_score =[]\n",
    "votes = []\n",
    "us_gross =[]"
   ]
  },
  {
   "cell_type": "markdown",
   "metadata": {},
   "source": [
    "# Loading Datasets after Scraping:\n"
   ]
  },
  {
   "cell_type": "code",
   "execution_count": 3,
   "metadata": {
    "scrolled": false
   },
   "outputs": [],
   "source": [
    "# run time =1 min and 24 sec\n",
    "a=1\n",
    "while a!=1001:\n",
    "    url= f\"https://www.imdb.com/search/title/?groups=top_1000&start={a}\"+\"&ref_=adv_nxt\"\n",
    "    response = requests.get(url)\n",
    "    page = response.text\n",
    "    soup = BeautifulSoup(page, \"lxml\")\n",
    "\n",
    "    mov_div=soup.find_all('div', class_='lister-item mode-advanced')\n",
    "    \n",
    "    \n",
    "    for container in mov_div:\n",
    "        name=container.h3.a.text\n",
    "        mov_names.append (name)\n",
    "    \n",
    "        year= container.h3.find('span',class_='lister-item-year').text\n",
    "        years.append(year)\n",
    "    \n",
    "        mv_type =container.p.find('span',class_='genre').text if container.p.find('span',class_='genre').text else '-'\n",
    "        mov_type.append(mv_type)\n",
    "    \n",
    "        imdb= float(container.strong.text)\n",
    "        imdb_rat.append(imdb)\n",
    "    \n",
    "        runtim =container.p.find('span',class_='runtime').text if container.p.find('span',class_='runtime').text else '-'\n",
    "        time.append(runtim)\n",
    "    \n",
    "        meta_s=container.find('span',class_='metascore').text if container.find('span',class_='metascore') else '-'\n",
    "        mt_score.append(meta_s)\n",
    "    \n",
    "        nv= container.find_all('span',attrs={'name': 'nv'})\n",
    "    \n",
    "        vote = nv[0].text\n",
    "        votes.append(vote)\n",
    "    \n",
    "        gros=nv[1].text if len(nv)>1 else '-'\n",
    "        us_gross.append(gros)\n",
    "    \n",
    "    \n",
    "    \n",
    "    \n",
    "    \n",
    "    a=a+50 "
   ]
  },
  {
   "cell_type": "markdown",
   "metadata": {},
   "source": [
    "# Rename Columns: "
   ]
  },
  {
   "cell_type": "code",
   "execution_count": 4,
   "metadata": {
    "scrolled": true
   },
   "outputs": [
    {
     "data": {
      "text/html": [
       "<div>\n",
       "<style scoped>\n",
       "    .dataframe tbody tr th:only-of-type {\n",
       "        vertical-align: middle;\n",
       "    }\n",
       "\n",
       "    .dataframe tbody tr th {\n",
       "        vertical-align: top;\n",
       "    }\n",
       "\n",
       "    .dataframe thead th {\n",
       "        text-align: right;\n",
       "    }\n",
       "</style>\n",
       "<table border=\"1\" class=\"dataframe\">\n",
       "  <thead>\n",
       "    <tr style=\"text-align: right;\">\n",
       "      <th></th>\n",
       "      <th>movie</th>\n",
       "      <th>years</th>\n",
       "      <th>type</th>\n",
       "      <th>IMDB_RATE</th>\n",
       "      <th>timeMin</th>\n",
       "      <th>metascore</th>\n",
       "      <th>votes</th>\n",
       "      <th>US_grossM</th>\n",
       "    </tr>\n",
       "  </thead>\n",
       "  <tbody>\n",
       "    <tr>\n",
       "      <th>0</th>\n",
       "      <td>Dune: Part One</td>\n",
       "      <td>(2021)</td>\n",
       "      <td>\\nAction, Adventure, Drama</td>\n",
       "      <td>8.2</td>\n",
       "      <td>155 min</td>\n",
       "      <td>74</td>\n",
       "      <td>372,975</td>\n",
       "      <td>-</td>\n",
       "    </tr>\n",
       "    <tr>\n",
       "      <th>1</th>\n",
       "      <td>Home Alone</td>\n",
       "      <td>(1990)</td>\n",
       "      <td>\\nComedy, Family</td>\n",
       "      <td>7.6</td>\n",
       "      <td>103 min</td>\n",
       "      <td>63</td>\n",
       "      <td>519,789</td>\n",
       "      <td>$285.76M</td>\n",
       "    </tr>\n",
       "    <tr>\n",
       "      <th>2</th>\n",
       "      <td>Jai Bhim</td>\n",
       "      <td>(2021)</td>\n",
       "      <td>\\nCrime, Drama</td>\n",
       "      <td>9.5</td>\n",
       "      <td>164 min</td>\n",
       "      <td>-</td>\n",
       "      <td>152,618</td>\n",
       "      <td>-</td>\n",
       "    </tr>\n",
       "    <tr>\n",
       "      <th>3</th>\n",
       "      <td>Ghostbusters</td>\n",
       "      <td>(1984)</td>\n",
       "      <td>\\nAction, Comedy, Fantasy</td>\n",
       "      <td>7.8</td>\n",
       "      <td>105 min</td>\n",
       "      <td>71</td>\n",
       "      <td>386,036</td>\n",
       "      <td>$238.63M</td>\n",
       "    </tr>\n",
       "    <tr>\n",
       "      <th>4</th>\n",
       "      <td>Harry Potter and the Sorcerer's Stone</td>\n",
       "      <td>(2001)</td>\n",
       "      <td>\\nAdventure, Family, Fantasy</td>\n",
       "      <td>7.6</td>\n",
       "      <td>152 min</td>\n",
       "      <td>65</td>\n",
       "      <td>713,840</td>\n",
       "      <td>$317.58M</td>\n",
       "    </tr>\n",
       "    <tr>\n",
       "      <th>...</th>\n",
       "      <td>...</td>\n",
       "      <td>...</td>\n",
       "      <td>...</td>\n",
       "      <td>...</td>\n",
       "      <td>...</td>\n",
       "      <td>...</td>\n",
       "      <td>...</td>\n",
       "      <td>...</td>\n",
       "    </tr>\n",
       "    <tr>\n",
       "      <th>945</th>\n",
       "      <td>Kai po che!</td>\n",
       "      <td>(2013)</td>\n",
       "      <td>\\nDrama, Sport</td>\n",
       "      <td>7.8</td>\n",
       "      <td>130 min</td>\n",
       "      <td>40</td>\n",
       "      <td>35,673</td>\n",
       "      <td>$1.12M</td>\n",
       "    </tr>\n",
       "    <tr>\n",
       "      <th>946</th>\n",
       "      <td>Vizontele</td>\n",
       "      <td>(2001)</td>\n",
       "      <td>\\nComedy, Drama</td>\n",
       "      <td>8.0</td>\n",
       "      <td>110 min</td>\n",
       "      <td>-</td>\n",
       "      <td>35,516</td>\n",
       "      <td>-</td>\n",
       "    </tr>\n",
       "    <tr>\n",
       "      <th>947</th>\n",
       "      <td>Nefes: Vatan Sagolsun</td>\n",
       "      <td>(2009)</td>\n",
       "      <td>\\nAction, Drama, Thriller</td>\n",
       "      <td>8.0</td>\n",
       "      <td>128 min</td>\n",
       "      <td>-</td>\n",
       "      <td>33,009</td>\n",
       "      <td>-</td>\n",
       "    </tr>\n",
       "    <tr>\n",
       "      <th>948</th>\n",
       "      <td>English Vinglish</td>\n",
       "      <td>(2012)</td>\n",
       "      <td>\\nComedy, Drama, Family</td>\n",
       "      <td>7.8</td>\n",
       "      <td>134 min</td>\n",
       "      <td>-</td>\n",
       "      <td>35,292</td>\n",
       "      <td>$1.67M</td>\n",
       "    </tr>\n",
       "    <tr>\n",
       "      <th>949</th>\n",
       "      <td>Anand</td>\n",
       "      <td>(1971)</td>\n",
       "      <td>\\nDrama, Musical</td>\n",
       "      <td>8.2</td>\n",
       "      <td>122 min</td>\n",
       "      <td>-</td>\n",
       "      <td>33,037</td>\n",
       "      <td>-</td>\n",
       "    </tr>\n",
       "  </tbody>\n",
       "</table>\n",
       "<p>950 rows × 8 columns</p>\n",
       "</div>"
      ],
      "text/plain": [
       "                                     movie   years  \\\n",
       "0                           Dune: Part One  (2021)   \n",
       "1                               Home Alone  (1990)   \n",
       "2                                 Jai Bhim  (2021)   \n",
       "3                             Ghostbusters  (1984)   \n",
       "4    Harry Potter and the Sorcerer's Stone  (2001)   \n",
       "..                                     ...     ...   \n",
       "945                            Kai po che!  (2013)   \n",
       "946                              Vizontele  (2001)   \n",
       "947                  Nefes: Vatan Sagolsun  (2009)   \n",
       "948                       English Vinglish  (2012)   \n",
       "949                                  Anand  (1971)   \n",
       "\n",
       "                                         type  IMDB_RATE  timeMin   metascore  \\\n",
       "0      \\nAction, Adventure, Drama                    8.2  155 min  74           \n",
       "1                \\nComedy, Family                    7.6  103 min  63           \n",
       "2                  \\nCrime, Drama                    9.5  164 min           -   \n",
       "3       \\nAction, Comedy, Fantasy                    7.8  105 min  71           \n",
       "4    \\nAdventure, Family, Fantasy                    7.6  152 min  65           \n",
       "..                                        ...        ...      ...         ...   \n",
       "945                \\nDrama, Sport                    7.8  130 min  40           \n",
       "946               \\nComedy, Drama                    8.0  110 min           -   \n",
       "947     \\nAction, Drama, Thriller                    8.0  128 min           -   \n",
       "948       \\nComedy, Drama, Family                    7.8  134 min           -   \n",
       "949              \\nDrama, Musical                    8.2  122 min           -   \n",
       "\n",
       "       votes US_grossM  \n",
       "0    372,975         -  \n",
       "1    519,789  $285.76M  \n",
       "2    152,618         -  \n",
       "3    386,036  $238.63M  \n",
       "4    713,840  $317.58M  \n",
       "..       ...       ...  \n",
       "945   35,673    $1.12M  \n",
       "946   35,516         -  \n",
       "947   33,009         -  \n",
       "948   35,292    $1.67M  \n",
       "949   33,037         -  \n",
       "\n",
       "[950 rows x 8 columns]"
      ]
     },
     "execution_count": 4,
     "metadata": {},
     "output_type": "execute_result"
    }
   ],
   "source": [
    "movies = pd.DataFrame({\n",
    "    'movie' : mov_names,\n",
    "    'years': years,\n",
    "    'type' : mov_type,\n",
    "    'IMDB_RATE': imdb_rat,\n",
    "    'timeMin': time,\n",
    "    'metascore': mt_score,\n",
    "    'votes' : votes,\n",
    "     'US_grossM': us_gross,\n",
    "    \n",
    "})\n",
    "movies.head(1000)"
   ]
  },
  {
   "cell_type": "markdown",
   "metadata": {},
   "source": [
    "# Data Exploration:"
   ]
  },
  {
   "cell_type": "code",
   "execution_count": 5,
   "metadata": {},
   "outputs": [
    {
     "data": {
      "text/plain": [
       "(950, 8)"
      ]
     },
     "execution_count": 5,
     "metadata": {},
     "output_type": "execute_result"
    }
   ],
   "source": [
    "movies.shape"
   ]
  },
  {
   "cell_type": "code",
   "execution_count": 6,
   "metadata": {},
   "outputs": [
    {
     "name": "stdout",
     "output_type": "stream",
     "text": [
      "<class 'pandas.core.frame.DataFrame'>\n",
      "RangeIndex: 950 entries, 0 to 949\n",
      "Data columns (total 8 columns):\n",
      " #   Column     Non-Null Count  Dtype  \n",
      "---  ------     --------------  -----  \n",
      " 0   movie      950 non-null    object \n",
      " 1   years      950 non-null    object \n",
      " 2   type       950 non-null    object \n",
      " 3   IMDB_RATE  950 non-null    float64\n",
      " 4   timeMin    950 non-null    object \n",
      " 5   metascore  950 non-null    object \n",
      " 6   votes      950 non-null    object \n",
      " 7   US_grossM  950 non-null    object \n",
      "dtypes: float64(1), object(7)\n",
      "memory usage: 59.5+ KB\n"
     ]
    }
   ],
   "source": [
    "movies.info()"
   ]
  },
  {
   "cell_type": "code",
   "execution_count": 7,
   "metadata": {},
   "outputs": [
    {
     "data": {
      "text/html": [
       "<div>\n",
       "<style scoped>\n",
       "    .dataframe tbody tr th:only-of-type {\n",
       "        vertical-align: middle;\n",
       "    }\n",
       "\n",
       "    .dataframe tbody tr th {\n",
       "        vertical-align: top;\n",
       "    }\n",
       "\n",
       "    .dataframe thead th {\n",
       "        text-align: right;\n",
       "    }\n",
       "</style>\n",
       "<table border=\"1\" class=\"dataframe\">\n",
       "  <thead>\n",
       "    <tr style=\"text-align: right;\">\n",
       "      <th></th>\n",
       "      <th>IMDB_RATE</th>\n",
       "    </tr>\n",
       "  </thead>\n",
       "  <tbody>\n",
       "    <tr>\n",
       "      <th>count</th>\n",
       "      <td>950.000000</td>\n",
       "    </tr>\n",
       "    <tr>\n",
       "      <th>mean</th>\n",
       "      <td>7.973158</td>\n",
       "    </tr>\n",
       "    <tr>\n",
       "      <th>std</th>\n",
       "      <td>0.281733</td>\n",
       "    </tr>\n",
       "    <tr>\n",
       "      <th>min</th>\n",
       "      <td>7.600000</td>\n",
       "    </tr>\n",
       "    <tr>\n",
       "      <th>25%</th>\n",
       "      <td>7.800000</td>\n",
       "    </tr>\n",
       "    <tr>\n",
       "      <th>50%</th>\n",
       "      <td>7.900000</td>\n",
       "    </tr>\n",
       "    <tr>\n",
       "      <th>75%</th>\n",
       "      <td>8.100000</td>\n",
       "    </tr>\n",
       "    <tr>\n",
       "      <th>max</th>\n",
       "      <td>9.500000</td>\n",
       "    </tr>\n",
       "  </tbody>\n",
       "</table>\n",
       "</div>"
      ],
      "text/plain": [
       "        IMDB_RATE\n",
       "count  950.000000\n",
       "mean     7.973158\n",
       "std      0.281733\n",
       "min      7.600000\n",
       "25%      7.800000\n",
       "50%      7.900000\n",
       "75%      8.100000\n",
       "max      9.500000"
      ]
     },
     "execution_count": 7,
     "metadata": {},
     "output_type": "execute_result"
    }
   ],
   "source": [
    "movies.describe()"
   ]
  },
  {
   "cell_type": "markdown",
   "metadata": {},
   "source": [
    " # Data cleaning "
   ]
  },
  {
   "cell_type": "markdown",
   "metadata": {},
   "source": [
    "### -Missing values:"
   ]
  },
  {
   "cell_type": "code",
   "execution_count": 8,
   "metadata": {},
   "outputs": [
    {
     "data": {
      "text/plain": [
       "movie        0\n",
       "years        0\n",
       "type         0\n",
       "IMDB_RATE    0\n",
       "timeMin      0\n",
       "metascore    0\n",
       "votes        0\n",
       "US_grossM    0\n",
       "dtype: int64"
      ]
     },
     "execution_count": 8,
     "metadata": {},
     "output_type": "execute_result"
    }
   ],
   "source": [
    "movies.isnull().sum()"
   ]
  },
  {
   "cell_type": "markdown",
   "metadata": {},
   "source": [
    "### -Duplicate Rows:"
   ]
  },
  {
   "cell_type": "code",
   "execution_count": 9,
   "metadata": {},
   "outputs": [
    {
     "data": {
      "text/plain": [
       "0"
      ]
     },
     "execution_count": 9,
     "metadata": {},
     "output_type": "execute_result"
    }
   ],
   "source": [
    "movies.duplicated().sum()"
   ]
  },
  {
   "cell_type": "markdown",
   "metadata": {},
   "source": [
    "### -Type of Data  before change:"
   ]
  },
  {
   "cell_type": "code",
   "execution_count": 10,
   "metadata": {},
   "outputs": [
    {
     "name": "stdout",
     "output_type": "stream",
     "text": [
      "movie         object\n",
      "years         object\n",
      "type          object\n",
      "IMDB_RATE    float64\n",
      "timeMin       object\n",
      "metascore     object\n",
      "votes         object\n",
      "US_grossM     object\n",
      "dtype: object\n"
     ]
    }
   ],
   "source": [
    "print(movies.dtypes)  "
   ]
  },
  {
   "cell_type": "markdown",
   "metadata": {},
   "source": [
    "### Cleaning the numaric data from object to int:"
   ]
  },
  {
   "cell_type": "code",
   "execution_count": 11,
   "metadata": {},
   "outputs": [],
   "source": [
    "# cleaning the  numeric data from object to int\n",
    "movies['years'] = movies['years'].str.extract('(\\d+)').astype(int)\n",
    "movies['timeMin'] = movies['timeMin'].str.extract('(\\d+)').astype(int)\n",
    "\n",
    "\n",
    "movies['votes'] = movies['votes'].str.replace(',', '').astype(int)\n",
    "\n",
    "\n",
    "# for the gross data we first need to omit the ($ and M) then convert the object into  float\n",
    "movies['US_grossM'] = movies['US_grossM'].map(lambda x: x.lstrip('$').rstrip('M'))\n",
    "movies['US_grossM'] = pd.to_numeric(movies['US_grossM'],errors ='coerce') #not all the calumon having numbers\n",
    "                                                                       # so (coerce) is to convert the dashes to NAN\n",
    "    \n",
    "\n",
    "movies['metascore'] = pd.to_numeric(movies['metascore'],errors ='coerce')\n"
   ]
  },
  {
   "cell_type": "markdown",
   "metadata": {},
   "source": [
    "### -Type of Data after change:"
   ]
  },
  {
   "cell_type": "code",
   "execution_count": 12,
   "metadata": {},
   "outputs": [
    {
     "name": "stdout",
     "output_type": "stream",
     "text": [
      "movie         object\n",
      "years          int32\n",
      "type          object\n",
      "IMDB_RATE    float64\n",
      "timeMin        int32\n",
      "metascore    float64\n",
      "votes          int32\n",
      "US_grossM    float64\n",
      "dtype: object\n"
     ]
    }
   ],
   "source": [
    "print(movies.dtypes)"
   ]
  },
  {
   "cell_type": "code",
   "execution_count": 13,
   "metadata": {},
   "outputs": [
    {
     "data": {
      "text/html": [
       "<div>\n",
       "<style scoped>\n",
       "    .dataframe tbody tr th:only-of-type {\n",
       "        vertical-align: middle;\n",
       "    }\n",
       "\n",
       "    .dataframe tbody tr th {\n",
       "        vertical-align: top;\n",
       "    }\n",
       "\n",
       "    .dataframe thead th {\n",
       "        text-align: right;\n",
       "    }\n",
       "</style>\n",
       "<table border=\"1\" class=\"dataframe\">\n",
       "  <thead>\n",
       "    <tr style=\"text-align: right;\">\n",
       "      <th></th>\n",
       "      <th>years</th>\n",
       "      <th>IMDB_RATE</th>\n",
       "      <th>timeMin</th>\n",
       "      <th>metascore</th>\n",
       "      <th>votes</th>\n",
       "      <th>US_grossM</th>\n",
       "    </tr>\n",
       "  </thead>\n",
       "  <tbody>\n",
       "    <tr>\n",
       "      <th>0</th>\n",
       "      <td>2021</td>\n",
       "      <td>8.2</td>\n",
       "      <td>155</td>\n",
       "      <td>74.0</td>\n",
       "      <td>372975</td>\n",
       "      <td>NaN</td>\n",
       "    </tr>\n",
       "    <tr>\n",
       "      <th>1</th>\n",
       "      <td>1990</td>\n",
       "      <td>7.6</td>\n",
       "      <td>103</td>\n",
       "      <td>63.0</td>\n",
       "      <td>519789</td>\n",
       "      <td>285.76</td>\n",
       "    </tr>\n",
       "    <tr>\n",
       "      <th>2</th>\n",
       "      <td>2021</td>\n",
       "      <td>9.5</td>\n",
       "      <td>164</td>\n",
       "      <td>NaN</td>\n",
       "      <td>152618</td>\n",
       "      <td>NaN</td>\n",
       "    </tr>\n",
       "    <tr>\n",
       "      <th>3</th>\n",
       "      <td>1984</td>\n",
       "      <td>7.8</td>\n",
       "      <td>105</td>\n",
       "      <td>71.0</td>\n",
       "      <td>386036</td>\n",
       "      <td>238.63</td>\n",
       "    </tr>\n",
       "    <tr>\n",
       "      <th>4</th>\n",
       "      <td>2001</td>\n",
       "      <td>7.6</td>\n",
       "      <td>152</td>\n",
       "      <td>65.0</td>\n",
       "      <td>713840</td>\n",
       "      <td>317.58</td>\n",
       "    </tr>\n",
       "    <tr>\n",
       "      <th>5</th>\n",
       "      <td>1999</td>\n",
       "      <td>8.7</td>\n",
       "      <td>136</td>\n",
       "      <td>73.0</td>\n",
       "      <td>1784332</td>\n",
       "      <td>171.48</td>\n",
       "    </tr>\n",
       "    <tr>\n",
       "      <th>6</th>\n",
       "      <td>2019</td>\n",
       "      <td>8.4</td>\n",
       "      <td>181</td>\n",
       "      <td>78.0</td>\n",
       "      <td>968981</td>\n",
       "      <td>858.37</td>\n",
       "    </tr>\n",
       "    <tr>\n",
       "      <th>7</th>\n",
       "      <td>1988</td>\n",
       "      <td>8.2</td>\n",
       "      <td>132</td>\n",
       "      <td>72.0</td>\n",
       "      <td>829011</td>\n",
       "      <td>83.01</td>\n",
       "    </tr>\n",
       "    <tr>\n",
       "      <th>8</th>\n",
       "      <td>1994</td>\n",
       "      <td>9.3</td>\n",
       "      <td>142</td>\n",
       "      <td>80.0</td>\n",
       "      <td>2501180</td>\n",
       "      <td>28.34</td>\n",
       "    </tr>\n",
       "    <tr>\n",
       "      <th>9</th>\n",
       "      <td>2019</td>\n",
       "      <td>7.9</td>\n",
       "      <td>130</td>\n",
       "      <td>82.0</td>\n",
       "      <td>554611</td>\n",
       "      <td>165.36</td>\n",
       "    </tr>\n",
       "  </tbody>\n",
       "</table>\n",
       "</div>"
      ],
      "text/plain": [
       "   years  IMDB_RATE  timeMin  metascore    votes  US_grossM\n",
       "0   2021        8.2      155       74.0   372975        NaN\n",
       "1   1990        7.6      103       63.0   519789     285.76\n",
       "2   2021        9.5      164        NaN   152618        NaN\n",
       "3   1984        7.8      105       71.0   386036     238.63\n",
       "4   2001        7.6      152       65.0   713840     317.58\n",
       "5   1999        8.7      136       73.0  1784332     171.48\n",
       "6   2019        8.4      181       78.0   968981     858.37\n",
       "7   1988        8.2      132       72.0   829011      83.01\n",
       "8   1994        9.3      142       80.0  2501180      28.34\n",
       "9   2019        7.9      130       82.0   554611     165.36"
      ]
     },
     "execution_count": 13,
     "metadata": {},
     "output_type": "execute_result"
    }
   ],
   "source": [
    "# selecting the numeric data only\n",
    "moviees = movies.select_dtypes(exclude=['object']).copy()\n",
    "moviees.head(10)\n"
   ]
  },
  {
   "cell_type": "code",
   "execution_count": 14,
   "metadata": {},
   "outputs": [
    {
     "data": {
      "text/html": [
       "<div>\n",
       "<style scoped>\n",
       "    .dataframe tbody tr th:only-of-type {\n",
       "        vertical-align: middle;\n",
       "    }\n",
       "\n",
       "    .dataframe tbody tr th {\n",
       "        vertical-align: top;\n",
       "    }\n",
       "\n",
       "    .dataframe thead th {\n",
       "        text-align: right;\n",
       "    }\n",
       "</style>\n",
       "<table border=\"1\" class=\"dataframe\">\n",
       "  <thead>\n",
       "    <tr style=\"text-align: right;\">\n",
       "      <th></th>\n",
       "      <th>years</th>\n",
       "      <th>IMDB_RATE</th>\n",
       "      <th>timeMin</th>\n",
       "      <th>metascore</th>\n",
       "      <th>votes</th>\n",
       "      <th>US_grossM</th>\n",
       "    </tr>\n",
       "  </thead>\n",
       "  <tbody>\n",
       "    <tr>\n",
       "      <th>0</th>\n",
       "      <td>2021</td>\n",
       "      <td>8.2</td>\n",
       "      <td>155</td>\n",
       "      <td>74.0</td>\n",
       "      <td>372975</td>\n",
       "      <td>0.00</td>\n",
       "    </tr>\n",
       "    <tr>\n",
       "      <th>1</th>\n",
       "      <td>1990</td>\n",
       "      <td>7.6</td>\n",
       "      <td>103</td>\n",
       "      <td>63.0</td>\n",
       "      <td>519789</td>\n",
       "      <td>285.76</td>\n",
       "    </tr>\n",
       "    <tr>\n",
       "      <th>2</th>\n",
       "      <td>2021</td>\n",
       "      <td>9.5</td>\n",
       "      <td>164</td>\n",
       "      <td>0.0</td>\n",
       "      <td>152618</td>\n",
       "      <td>0.00</td>\n",
       "    </tr>\n",
       "    <tr>\n",
       "      <th>3</th>\n",
       "      <td>1984</td>\n",
       "      <td>7.8</td>\n",
       "      <td>105</td>\n",
       "      <td>71.0</td>\n",
       "      <td>386036</td>\n",
       "      <td>238.63</td>\n",
       "    </tr>\n",
       "    <tr>\n",
       "      <th>4</th>\n",
       "      <td>2001</td>\n",
       "      <td>7.6</td>\n",
       "      <td>152</td>\n",
       "      <td>65.0</td>\n",
       "      <td>713840</td>\n",
       "      <td>317.58</td>\n",
       "    </tr>\n",
       "    <tr>\n",
       "      <th>5</th>\n",
       "      <td>1999</td>\n",
       "      <td>8.7</td>\n",
       "      <td>136</td>\n",
       "      <td>73.0</td>\n",
       "      <td>1784332</td>\n",
       "      <td>171.48</td>\n",
       "    </tr>\n",
       "    <tr>\n",
       "      <th>6</th>\n",
       "      <td>2019</td>\n",
       "      <td>8.4</td>\n",
       "      <td>181</td>\n",
       "      <td>78.0</td>\n",
       "      <td>968981</td>\n",
       "      <td>858.37</td>\n",
       "    </tr>\n",
       "    <tr>\n",
       "      <th>7</th>\n",
       "      <td>1988</td>\n",
       "      <td>8.2</td>\n",
       "      <td>132</td>\n",
       "      <td>72.0</td>\n",
       "      <td>829011</td>\n",
       "      <td>83.01</td>\n",
       "    </tr>\n",
       "    <tr>\n",
       "      <th>8</th>\n",
       "      <td>1994</td>\n",
       "      <td>9.3</td>\n",
       "      <td>142</td>\n",
       "      <td>80.0</td>\n",
       "      <td>2501180</td>\n",
       "      <td>28.34</td>\n",
       "    </tr>\n",
       "    <tr>\n",
       "      <th>9</th>\n",
       "      <td>2019</td>\n",
       "      <td>7.9</td>\n",
       "      <td>130</td>\n",
       "      <td>82.0</td>\n",
       "      <td>554611</td>\n",
       "      <td>165.36</td>\n",
       "    </tr>\n",
       "  </tbody>\n",
       "</table>\n",
       "</div>"
      ],
      "text/plain": [
       "   years  IMDB_RATE  timeMin  metascore    votes  US_grossM\n",
       "0   2021        8.2      155       74.0   372975       0.00\n",
       "1   1990        7.6      103       63.0   519789     285.76\n",
       "2   2021        9.5      164        0.0   152618       0.00\n",
       "3   1984        7.8      105       71.0   386036     238.63\n",
       "4   2001        7.6      152       65.0   713840     317.58\n",
       "5   1999        8.7      136       73.0  1784332     171.48\n",
       "6   2019        8.4      181       78.0   968981     858.37\n",
       "7   1988        8.2      132       72.0   829011      83.01\n",
       "8   1994        9.3      142       80.0  2501180      28.34\n",
       "9   2019        7.9      130       82.0   554611     165.36"
      ]
     },
     "execution_count": 14,
     "metadata": {},
     "output_type": "execute_result"
    }
   ],
   "source": [
    "# converting the nan to 0 so it can be recognized as numeric data \n",
    "moviees[np.isnan(moviees)] = 0\n",
    "moviees.head(10)\n",
    "   "
   ]
  },
  {
   "cell_type": "code",
   "execution_count": 15,
   "metadata": {},
   "outputs": [],
   "source": [
    "Moviees= moviees[moviees.loc[:]!=0].dropna()"
   ]
  },
  {
   "cell_type": "code",
   "execution_count": 16,
   "metadata": {},
   "outputs": [
    {
     "data": {
      "text/plain": [
       "(701, 6)"
      ]
     },
     "execution_count": 16,
     "metadata": {},
     "output_type": "execute_result"
    }
   ],
   "source": [
    "Moviees.shape"
   ]
  },
  {
   "cell_type": "markdown",
   "metadata": {},
   "source": [
    "### converting the movies type into dummies variable "
   ]
  },
  {
   "cell_type": "code",
   "execution_count": 17,
   "metadata": {},
   "outputs": [
    {
     "data": {
      "text/html": [
       "<div>\n",
       "<style scoped>\n",
       "    .dataframe tbody tr th:only-of-type {\n",
       "        vertical-align: middle;\n",
       "    }\n",
       "\n",
       "    .dataframe tbody tr th {\n",
       "        vertical-align: top;\n",
       "    }\n",
       "\n",
       "    .dataframe thead th {\n",
       "        text-align: right;\n",
       "    }\n",
       "</style>\n",
       "<table border=\"1\" class=\"dataframe\">\n",
       "  <thead>\n",
       "    <tr style=\"text-align: right;\">\n",
       "      <th></th>\n",
       "      <th>\\nAction, Adventure, Biography</th>\n",
       "      <th>\\nAction, Adventure, Comedy</th>\n",
       "      <th>\\nAction, Adventure, Crime</th>\n",
       "      <th>\\nAction, Adventure, Drama</th>\n",
       "      <th>\\nAction, Adventure, Family</th>\n",
       "      <th>\\nAction, Adventure, Fantasy</th>\n",
       "      <th>\\nAction, Adventure, Horror</th>\n",
       "      <th>\\nAction, Adventure, Mystery</th>\n",
       "      <th>\\nAction, Adventure, Romance</th>\n",
       "      <th>\\nAction, Adventure, Sci-Fi</th>\n",
       "      <th>...</th>\n",
       "      <th>\\nHorror</th>\n",
       "      <th>\\nHorror, Mystery, Sci-Fi</th>\n",
       "      <th>\\nHorror, Mystery, Thriller</th>\n",
       "      <th>\\nHorror, Sci-Fi</th>\n",
       "      <th>\\nHorror, Thriller</th>\n",
       "      <th>\\nMystery, Romance, Thriller</th>\n",
       "      <th>\\nMystery, Sci-Fi, Thriller</th>\n",
       "      <th>\\nMystery, Thriller</th>\n",
       "      <th>\\nThriller</th>\n",
       "      <th>\\nWestern</th>\n",
       "    </tr>\n",
       "  </thead>\n",
       "  <tbody>\n",
       "    <tr>\n",
       "      <th>0</th>\n",
       "      <td>0</td>\n",
       "      <td>0</td>\n",
       "      <td>0</td>\n",
       "      <td>1</td>\n",
       "      <td>0</td>\n",
       "      <td>0</td>\n",
       "      <td>0</td>\n",
       "      <td>0</td>\n",
       "      <td>0</td>\n",
       "      <td>0</td>\n",
       "      <td>...</td>\n",
       "      <td>0</td>\n",
       "      <td>0</td>\n",
       "      <td>0</td>\n",
       "      <td>0</td>\n",
       "      <td>0</td>\n",
       "      <td>0</td>\n",
       "      <td>0</td>\n",
       "      <td>0</td>\n",
       "      <td>0</td>\n",
       "      <td>0</td>\n",
       "    </tr>\n",
       "    <tr>\n",
       "      <th>1</th>\n",
       "      <td>0</td>\n",
       "      <td>0</td>\n",
       "      <td>0</td>\n",
       "      <td>0</td>\n",
       "      <td>0</td>\n",
       "      <td>0</td>\n",
       "      <td>0</td>\n",
       "      <td>0</td>\n",
       "      <td>0</td>\n",
       "      <td>0</td>\n",
       "      <td>...</td>\n",
       "      <td>0</td>\n",
       "      <td>0</td>\n",
       "      <td>0</td>\n",
       "      <td>0</td>\n",
       "      <td>0</td>\n",
       "      <td>0</td>\n",
       "      <td>0</td>\n",
       "      <td>0</td>\n",
       "      <td>0</td>\n",
       "      <td>0</td>\n",
       "    </tr>\n",
       "    <tr>\n",
       "      <th>2</th>\n",
       "      <td>0</td>\n",
       "      <td>0</td>\n",
       "      <td>0</td>\n",
       "      <td>0</td>\n",
       "      <td>0</td>\n",
       "      <td>0</td>\n",
       "      <td>0</td>\n",
       "      <td>0</td>\n",
       "      <td>0</td>\n",
       "      <td>0</td>\n",
       "      <td>...</td>\n",
       "      <td>0</td>\n",
       "      <td>0</td>\n",
       "      <td>0</td>\n",
       "      <td>0</td>\n",
       "      <td>0</td>\n",
       "      <td>0</td>\n",
       "      <td>0</td>\n",
       "      <td>0</td>\n",
       "      <td>0</td>\n",
       "      <td>0</td>\n",
       "    </tr>\n",
       "    <tr>\n",
       "      <th>3</th>\n",
       "      <td>0</td>\n",
       "      <td>0</td>\n",
       "      <td>0</td>\n",
       "      <td>0</td>\n",
       "      <td>0</td>\n",
       "      <td>0</td>\n",
       "      <td>0</td>\n",
       "      <td>0</td>\n",
       "      <td>0</td>\n",
       "      <td>0</td>\n",
       "      <td>...</td>\n",
       "      <td>0</td>\n",
       "      <td>0</td>\n",
       "      <td>0</td>\n",
       "      <td>0</td>\n",
       "      <td>0</td>\n",
       "      <td>0</td>\n",
       "      <td>0</td>\n",
       "      <td>0</td>\n",
       "      <td>0</td>\n",
       "      <td>0</td>\n",
       "    </tr>\n",
       "    <tr>\n",
       "      <th>4</th>\n",
       "      <td>0</td>\n",
       "      <td>0</td>\n",
       "      <td>0</td>\n",
       "      <td>0</td>\n",
       "      <td>0</td>\n",
       "      <td>0</td>\n",
       "      <td>0</td>\n",
       "      <td>0</td>\n",
       "      <td>0</td>\n",
       "      <td>0</td>\n",
       "      <td>...</td>\n",
       "      <td>0</td>\n",
       "      <td>0</td>\n",
       "      <td>0</td>\n",
       "      <td>0</td>\n",
       "      <td>0</td>\n",
       "      <td>0</td>\n",
       "      <td>0</td>\n",
       "      <td>0</td>\n",
       "      <td>0</td>\n",
       "      <td>0</td>\n",
       "    </tr>\n",
       "  </tbody>\n",
       "</table>\n",
       "<p>5 rows × 202 columns</p>\n",
       "</div>"
      ],
      "text/plain": [
       "   \\nAction, Adventure, Biography              \\\n",
       "0                                           0   \n",
       "1                                           0   \n",
       "2                                           0   \n",
       "3                                           0   \n",
       "4                                           0   \n",
       "\n",
       "   \\nAction, Adventure, Comedy              \\\n",
       "0                                        0   \n",
       "1                                        0   \n",
       "2                                        0   \n",
       "3                                        0   \n",
       "4                                        0   \n",
       "\n",
       "   \\nAction, Adventure, Crime              \\\n",
       "0                                       0   \n",
       "1                                       0   \n",
       "2                                       0   \n",
       "3                                       0   \n",
       "4                                       0   \n",
       "\n",
       "   \\nAction, Adventure, Drama              \\\n",
       "0                                       1   \n",
       "1                                       0   \n",
       "2                                       0   \n",
       "3                                       0   \n",
       "4                                       0   \n",
       "\n",
       "   \\nAction, Adventure, Family              \\\n",
       "0                                        0   \n",
       "1                                        0   \n",
       "2                                        0   \n",
       "3                                        0   \n",
       "4                                        0   \n",
       "\n",
       "   \\nAction, Adventure, Fantasy              \\\n",
       "0                                         0   \n",
       "1                                         0   \n",
       "2                                         0   \n",
       "3                                         0   \n",
       "4                                         0   \n",
       "\n",
       "   \\nAction, Adventure, Horror              \\\n",
       "0                                        0   \n",
       "1                                        0   \n",
       "2                                        0   \n",
       "3                                        0   \n",
       "4                                        0   \n",
       "\n",
       "   \\nAction, Adventure, Mystery              \\\n",
       "0                                         0   \n",
       "1                                         0   \n",
       "2                                         0   \n",
       "3                                         0   \n",
       "4                                         0   \n",
       "\n",
       "   \\nAction, Adventure, Romance              \\\n",
       "0                                         0   \n",
       "1                                         0   \n",
       "2                                         0   \n",
       "3                                         0   \n",
       "4                                         0   \n",
       "\n",
       "   \\nAction, Adventure, Sci-Fi              ...  \\nHorror              \\\n",
       "0                                        0  ...                     0   \n",
       "1                                        0  ...                     0   \n",
       "2                                        0  ...                     0   \n",
       "3                                        0  ...                     0   \n",
       "4                                        0  ...                     0   \n",
       "\n",
       "   \\nHorror, Mystery, Sci-Fi              \\\n",
       "0                                      0   \n",
       "1                                      0   \n",
       "2                                      0   \n",
       "3                                      0   \n",
       "4                                      0   \n",
       "\n",
       "   \\nHorror, Mystery, Thriller              \\nHorror, Sci-Fi              \\\n",
       "0                                        0                             0   \n",
       "1                                        0                             0   \n",
       "2                                        0                             0   \n",
       "3                                        0                             0   \n",
       "4                                        0                             0   \n",
       "\n",
       "   \\nHorror, Thriller              \\nMystery, Romance, Thriller              \\\n",
       "0                               0                                         0   \n",
       "1                               0                                         0   \n",
       "2                               0                                         0   \n",
       "3                               0                                         0   \n",
       "4                               0                                         0   \n",
       "\n",
       "   \\nMystery, Sci-Fi, Thriller              \\nMystery, Thriller              \\\n",
       "0                                        0                                0   \n",
       "1                                        0                                0   \n",
       "2                                        0                                0   \n",
       "3                                        0                                0   \n",
       "4                                        0                                0   \n",
       "\n",
       "   \\nThriller              \\nWestern              \n",
       "0                       0                      0  \n",
       "1                       0                      0  \n",
       "2                       0                      0  \n",
       "3                       0                      0  \n",
       "4                       0                      0  \n",
       "\n",
       "[5 rows x 202 columns]"
      ]
     },
     "execution_count": 17,
     "metadata": {},
     "output_type": "execute_result"
    }
   ],
   "source": [
    "type_dummies = pd.get_dummies(movies['type'],drop_first=True)\n",
    "\n",
    "type_dummies.head()"
   ]
  },
  {
   "cell_type": "code",
   "execution_count": 18,
   "metadata": {},
   "outputs": [
    {
     "data": {
      "text/html": [
       "<div>\n",
       "<style scoped>\n",
       "    .dataframe tbody tr th:only-of-type {\n",
       "        vertical-align: middle;\n",
       "    }\n",
       "\n",
       "    .dataframe tbody tr th {\n",
       "        vertical-align: top;\n",
       "    }\n",
       "\n",
       "    .dataframe thead th {\n",
       "        text-align: right;\n",
       "    }\n",
       "</style>\n",
       "<table border=\"1\" class=\"dataframe\">\n",
       "  <thead>\n",
       "    <tr style=\"text-align: right;\">\n",
       "      <th></th>\n",
       "      <th>years</th>\n",
       "      <th>IMDB_RATE</th>\n",
       "      <th>timeMin</th>\n",
       "      <th>metascore</th>\n",
       "      <th>votes</th>\n",
       "      <th>US_grossM</th>\n",
       "      <th>\\nAction, Adventure, Biography</th>\n",
       "      <th>\\nAction, Adventure, Comedy</th>\n",
       "      <th>\\nAction, Adventure, Crime</th>\n",
       "      <th>\\nAction, Adventure, Drama</th>\n",
       "      <th>...</th>\n",
       "      <th>\\nHorror</th>\n",
       "      <th>\\nHorror, Mystery, Sci-Fi</th>\n",
       "      <th>\\nHorror, Mystery, Thriller</th>\n",
       "      <th>\\nHorror, Sci-Fi</th>\n",
       "      <th>\\nHorror, Thriller</th>\n",
       "      <th>\\nMystery, Romance, Thriller</th>\n",
       "      <th>\\nMystery, Sci-Fi, Thriller</th>\n",
       "      <th>\\nMystery, Thriller</th>\n",
       "      <th>\\nThriller</th>\n",
       "      <th>\\nWestern</th>\n",
       "    </tr>\n",
       "  </thead>\n",
       "  <tbody>\n",
       "    <tr>\n",
       "      <th>0</th>\n",
       "      <td>2021</td>\n",
       "      <td>8.2</td>\n",
       "      <td>155</td>\n",
       "      <td>74.0</td>\n",
       "      <td>372975</td>\n",
       "      <td>0.00</td>\n",
       "      <td>0</td>\n",
       "      <td>0</td>\n",
       "      <td>0</td>\n",
       "      <td>1</td>\n",
       "      <td>...</td>\n",
       "      <td>0</td>\n",
       "      <td>0</td>\n",
       "      <td>0</td>\n",
       "      <td>0</td>\n",
       "      <td>0</td>\n",
       "      <td>0</td>\n",
       "      <td>0</td>\n",
       "      <td>0</td>\n",
       "      <td>0</td>\n",
       "      <td>0</td>\n",
       "    </tr>\n",
       "    <tr>\n",
       "      <th>1</th>\n",
       "      <td>1990</td>\n",
       "      <td>7.6</td>\n",
       "      <td>103</td>\n",
       "      <td>63.0</td>\n",
       "      <td>519789</td>\n",
       "      <td>285.76</td>\n",
       "      <td>0</td>\n",
       "      <td>0</td>\n",
       "      <td>0</td>\n",
       "      <td>0</td>\n",
       "      <td>...</td>\n",
       "      <td>0</td>\n",
       "      <td>0</td>\n",
       "      <td>0</td>\n",
       "      <td>0</td>\n",
       "      <td>0</td>\n",
       "      <td>0</td>\n",
       "      <td>0</td>\n",
       "      <td>0</td>\n",
       "      <td>0</td>\n",
       "      <td>0</td>\n",
       "    </tr>\n",
       "    <tr>\n",
       "      <th>2</th>\n",
       "      <td>2021</td>\n",
       "      <td>9.5</td>\n",
       "      <td>164</td>\n",
       "      <td>0.0</td>\n",
       "      <td>152618</td>\n",
       "      <td>0.00</td>\n",
       "      <td>0</td>\n",
       "      <td>0</td>\n",
       "      <td>0</td>\n",
       "      <td>0</td>\n",
       "      <td>...</td>\n",
       "      <td>0</td>\n",
       "      <td>0</td>\n",
       "      <td>0</td>\n",
       "      <td>0</td>\n",
       "      <td>0</td>\n",
       "      <td>0</td>\n",
       "      <td>0</td>\n",
       "      <td>0</td>\n",
       "      <td>0</td>\n",
       "      <td>0</td>\n",
       "    </tr>\n",
       "    <tr>\n",
       "      <th>3</th>\n",
       "      <td>1984</td>\n",
       "      <td>7.8</td>\n",
       "      <td>105</td>\n",
       "      <td>71.0</td>\n",
       "      <td>386036</td>\n",
       "      <td>238.63</td>\n",
       "      <td>0</td>\n",
       "      <td>0</td>\n",
       "      <td>0</td>\n",
       "      <td>0</td>\n",
       "      <td>...</td>\n",
       "      <td>0</td>\n",
       "      <td>0</td>\n",
       "      <td>0</td>\n",
       "      <td>0</td>\n",
       "      <td>0</td>\n",
       "      <td>0</td>\n",
       "      <td>0</td>\n",
       "      <td>0</td>\n",
       "      <td>0</td>\n",
       "      <td>0</td>\n",
       "    </tr>\n",
       "    <tr>\n",
       "      <th>4</th>\n",
       "      <td>2001</td>\n",
       "      <td>7.6</td>\n",
       "      <td>152</td>\n",
       "      <td>65.0</td>\n",
       "      <td>713840</td>\n",
       "      <td>317.58</td>\n",
       "      <td>0</td>\n",
       "      <td>0</td>\n",
       "      <td>0</td>\n",
       "      <td>0</td>\n",
       "      <td>...</td>\n",
       "      <td>0</td>\n",
       "      <td>0</td>\n",
       "      <td>0</td>\n",
       "      <td>0</td>\n",
       "      <td>0</td>\n",
       "      <td>0</td>\n",
       "      <td>0</td>\n",
       "      <td>0</td>\n",
       "      <td>0</td>\n",
       "      <td>0</td>\n",
       "    </tr>\n",
       "  </tbody>\n",
       "</table>\n",
       "<p>5 rows × 208 columns</p>\n",
       "</div>"
      ],
      "text/plain": [
       "   years  IMDB_RATE  timeMin  metascore   votes  US_grossM  \\\n",
       "0   2021        8.2      155       74.0  372975       0.00   \n",
       "1   1990        7.6      103       63.0  519789     285.76   \n",
       "2   2021        9.5      164        0.0  152618       0.00   \n",
       "3   1984        7.8      105       71.0  386036     238.63   \n",
       "4   2001        7.6      152       65.0  713840     317.58   \n",
       "\n",
       "   \\nAction, Adventure, Biography              \\\n",
       "0                                           0   \n",
       "1                                           0   \n",
       "2                                           0   \n",
       "3                                           0   \n",
       "4                                           0   \n",
       "\n",
       "   \\nAction, Adventure, Comedy              \\\n",
       "0                                        0   \n",
       "1                                        0   \n",
       "2                                        0   \n",
       "3                                        0   \n",
       "4                                        0   \n",
       "\n",
       "   \\nAction, Adventure, Crime              \\\n",
       "0                                       0   \n",
       "1                                       0   \n",
       "2                                       0   \n",
       "3                                       0   \n",
       "4                                       0   \n",
       "\n",
       "   \\nAction, Adventure, Drama              ...  \\nHorror              \\\n",
       "0                                       1  ...                     0   \n",
       "1                                       0  ...                     0   \n",
       "2                                       0  ...                     0   \n",
       "3                                       0  ...                     0   \n",
       "4                                       0  ...                     0   \n",
       "\n",
       "   \\nHorror, Mystery, Sci-Fi              \\\n",
       "0                                      0   \n",
       "1                                      0   \n",
       "2                                      0   \n",
       "3                                      0   \n",
       "4                                      0   \n",
       "\n",
       "   \\nHorror, Mystery, Thriller              \\nHorror, Sci-Fi              \\\n",
       "0                                        0                             0   \n",
       "1                                        0                             0   \n",
       "2                                        0                             0   \n",
       "3                                        0                             0   \n",
       "4                                        0                             0   \n",
       "\n",
       "   \\nHorror, Thriller              \\nMystery, Romance, Thriller              \\\n",
       "0                               0                                         0   \n",
       "1                               0                                         0   \n",
       "2                               0                                         0   \n",
       "3                               0                                         0   \n",
       "4                               0                                         0   \n",
       "\n",
       "   \\nMystery, Sci-Fi, Thriller              \\nMystery, Thriller              \\\n",
       "0                                        0                                0   \n",
       "1                                        0                                0   \n",
       "2                                        0                                0   \n",
       "3                                        0                                0   \n",
       "4                                        0                                0   \n",
       "\n",
       "   \\nThriller              \\nWestern              \n",
       "0                       0                      0  \n",
       "1                       0                      0  \n",
       "2                       0                      0  \n",
       "3                       0                      0  \n",
       "4                       0                      0  \n",
       "\n",
       "[5 rows x 208 columns]"
      ]
     },
     "execution_count": 18,
     "metadata": {},
     "output_type": "execute_result"
    }
   ],
   "source": [
    "# re-joine the type_dummies the the dataframe\n",
    "movieD=moviees.join(type_dummies)  \n",
    "movieD.head()"
   ]
  },
  {
   "cell_type": "markdown",
   "metadata": {},
   "source": [
    "# Data Regression"
   ]
  },
  {
   "cell_type": "code",
   "execution_count": 19,
   "metadata": {},
   "outputs": [],
   "source": [
    "from sklearn.model_selection import train_test_split\n",
    "from sklearn.linear_model import LinearRegression, Ridge #ordinary linear regression + w/ ridge regularization\n",
    "from sklearn.preprocessing import StandardScaler, PolynomialFeatures\n",
    "\n",
    "X, y = Moviees.drop('IMDB_RATE',axis=1), Moviees['IMDB_RATE']\n",
    "\n",
    "\n",
    "X, X_test, y, y_test = train_test_split(X, y, test_size=.2, random_state=10)"
   ]
  },
  {
   "cell_type": "code",
   "execution_count": 20,
   "metadata": {},
   "outputs": [],
   "source": [
    "X_train, X_val, y_train, y_val = train_test_split(X, y, test_size=.25, random_state=10)"
   ]
  },
  {
   "cell_type": "code",
   "execution_count": 21,
   "metadata": {},
   "outputs": [],
   "source": [
    "#set up the 3 models we're choosing from:\n",
    "\n",
    "lm = LinearRegression()\n",
    "\n",
    "#Feature scaling for train, val, and test so that we can run our ridge model on each\n",
    "scaler = StandardScaler()\n",
    "\n",
    "X_train_scaled = scaler.fit_transform(X_train.values)\n",
    "X_val_scaled = scaler.transform(X_val.values)\n",
    "X_test_scaled = scaler.transform(X_test.values)\n",
    "\n",
    "lm_reg = Ridge(alpha=1)\n",
    "\n",
    "#Feature transforms for train, val, and test so that we can run our poly model on each\n",
    "poly = PolynomialFeatures(degree=2) \n",
    "\n",
    "X_train_poly = poly.fit_transform(X_train.values)\n",
    "X_val_poly = poly.transform(X_val.values)\n",
    "X_test_poly = poly.transform(X_test.values)\n",
    "\n",
    "lm_poly = LinearRegression()"
   ]
  },
  {
   "cell_type": "code",
   "execution_count": 22,
   "metadata": {},
   "outputs": [
    {
     "name": "stdout",
     "output_type": "stream",
     "text": [
      "Linear Regression val R^2: 0.591\n",
      "Ridge Regression val R^2: 0.591\n",
      "Degree 2 polynomial regression val R^2: 0.551\n"
     ]
    }
   ],
   "source": [
    "lm.fit(X_train, y_train)\n",
    "print(f'Linear Regression val R^2: {lm.score(X_val, y_val):.3f}')\n",
    "\n",
    "lm_reg.fit(X_train_scaled, y_train)\n",
    "print(f'Ridge Regression val R^2: {lm_reg.score(X_val_scaled, y_val):.3f}')\n",
    "\n",
    "lm_poly.fit(X_train_poly, y_train)\n",
    "print(f'Degree 2 polynomial regression val R^2: {lm_poly.score(X_val_poly, y_val):.3f}')"
   ]
  },
  {
   "cell_type": "code",
   "execution_count": 23,
   "metadata": {},
   "outputs": [
    {
     "name": "stdout",
     "output_type": "stream",
     "text": [
      "Linear Regression test R^2: 0.627\n"
     ]
    }
   ],
   "source": [
    "lm.fit(X,y)\n",
    "print(f'Linear Regression test R^2: {lm.score(X_test, y_test):.3f}')"
   ]
  },
  {
   "cell_type": "markdown",
   "metadata": {},
   "source": [
    "# prediction"
   ]
  },
  {
   "cell_type": "code",
   "execution_count": 24,
   "metadata": {},
   "outputs": [
    {
     "data": {
      "text/plain": [
       "array([7.98230626, 8.69023834, 7.79408734, 8.11430582, 7.7234576 ])"
      ]
     },
     "execution_count": 24,
     "metadata": {},
     "output_type": "execute_result"
    }
   ],
   "source": [
    "lm.predict(X_test.head())"
   ]
  },
  {
   "cell_type": "code",
   "execution_count": 25,
   "metadata": {},
   "outputs": [
    {
     "data": {
      "text/html": [
       "<div>\n",
       "<style scoped>\n",
       "    .dataframe tbody tr th:only-of-type {\n",
       "        vertical-align: middle;\n",
       "    }\n",
       "\n",
       "    .dataframe tbody tr th {\n",
       "        vertical-align: top;\n",
       "    }\n",
       "\n",
       "    .dataframe thead th {\n",
       "        text-align: right;\n",
       "    }\n",
       "</style>\n",
       "<table border=\"1\" class=\"dataframe\">\n",
       "  <thead>\n",
       "    <tr style=\"text-align: right;\">\n",
       "      <th></th>\n",
       "      <th>years</th>\n",
       "      <th>timeMin</th>\n",
       "      <th>metascore</th>\n",
       "      <th>votes</th>\n",
       "      <th>US_grossM</th>\n",
       "    </tr>\n",
       "  </thead>\n",
       "  <tbody>\n",
       "    <tr>\n",
       "      <th>209</th>\n",
       "      <td>2014</td>\n",
       "      <td>117</td>\n",
       "      <td>76.0</td>\n",
       "      <td>503622</td>\n",
       "      <td>32.38</td>\n",
       "    </tr>\n",
       "    <tr>\n",
       "      <th>86</th>\n",
       "      <td>2003</td>\n",
       "      <td>201</td>\n",
       "      <td>94.0</td>\n",
       "      <td>1728234</td>\n",
       "      <td>377.85</td>\n",
       "    </tr>\n",
       "    <tr>\n",
       "      <th>926</th>\n",
       "      <td>2007</td>\n",
       "      <td>122</td>\n",
       "      <td>85.0</td>\n",
       "      <td>31670</td>\n",
       "      <td>0.74</td>\n",
       "    </tr>\n",
       "    <tr>\n",
       "      <th>466</th>\n",
       "      <td>1950</td>\n",
       "      <td>138</td>\n",
       "      <td>98.0</td>\n",
       "      <td>127015</td>\n",
       "      <td>0.01</td>\n",
       "    </tr>\n",
       "    <tr>\n",
       "      <th>356</th>\n",
       "      <td>2008</td>\n",
       "      <td>94</td>\n",
       "      <td>55.0</td>\n",
       "      <td>204984</td>\n",
       "      <td>9.03</td>\n",
       "    </tr>\n",
       "  </tbody>\n",
       "</table>\n",
       "</div>"
      ],
      "text/plain": [
       "     years  timeMin  metascore    votes  US_grossM\n",
       "209   2014      117       76.0   503622      32.38\n",
       "86    2003      201       94.0  1728234     377.85\n",
       "926   2007      122       85.0    31670       0.74\n",
       "466   1950      138       98.0   127015       0.01\n",
       "356   2008       94       55.0   204984       9.03"
      ]
     },
     "execution_count": 25,
     "metadata": {},
     "output_type": "execute_result"
    }
   ],
   "source": [
    "X_test.head(5)"
   ]
  },
  {
   "cell_type": "code",
   "execution_count": 26,
   "metadata": {},
   "outputs": [
    {
     "data": {
      "text/plain": [
       "209    7.8\n",
       "86     8.9\n",
       "926    7.8\n",
       "466    8.2\n",
       "356    7.8\n",
       "Name: IMDB_RATE, dtype: float64"
      ]
     },
     "execution_count": 26,
     "metadata": {},
     "output_type": "execute_result"
    }
   ],
   "source": [
    "y_test.head(5)"
   ]
  },
  {
   "cell_type": "markdown",
   "metadata": {},
   "source": [
    "## Cross-Validation"
   ]
  },
  {
   "cell_type": "code",
   "execution_count": 27,
   "metadata": {},
   "outputs": [],
   "source": [
    "from sklearn.model_selection import KFold\n",
    "\n",
    "X, y = Moviees.drop('IMDB_RATE',axis=1), Moviees['IMDB_RATE']\n",
    "\n",
    "X, X_test, y, y_test = train_test_split(X, y, test_size=.2, random_state=10) #hold out 20% of the data for final testing\n",
    "\n",
    "#this helps with the way kf will generate indices below\n",
    "X, y = np.array(X), np.array(y)"
   ]
  },
  {
   "cell_type": "code",
   "execution_count": 28,
   "metadata": {},
   "outputs": [
    {
     "name": "stdout",
     "output_type": "stream",
     "text": [
      "Simple regression scores:  [0.5012579780166053, 0.5157245674068272, 0.6916710987053629, 0.4072816407699177, 0.5560081017387508]\n",
      "Ridge scores:  [0.5012686910278185, 0.5158754705537714, 0.691068954675587, 0.4080964155223217, 0.5560781063682825] \n",
      "\n",
      "Simple mean cv r^2: 0.534 +- 0.093\n",
      "Ridge mean cv r^2: 0.534 +- 0.092\n"
     ]
    }
   ],
   "source": [
    "#run the CV\n",
    "\n",
    "kf = KFold(n_splits=5, shuffle=True, random_state = 71)\n",
    "cv_lm_r2s, cv_lm_reg_r2s = [], [] #collect the validation results for both models\n",
    "\n",
    "for train_ind, val_ind in kf.split(X,y):\n",
    "    \n",
    "    X_train, y_train = X[train_ind], y[train_ind]\n",
    "    X_val, y_val = X[val_ind], y[val_ind] \n",
    "    \n",
    "    #simple linear regression\n",
    "    lm1 = LinearRegression()\n",
    "    lm_reg = Ridge(alpha=1)\n",
    "\n",
    "    lm1.fit(X_train, y_train)\n",
    "    cv_lm_r2s.append(lm1.score(X_val, y_val))\n",
    "    \n",
    "    #ridge with feature scaling\n",
    "    scaler = StandardScaler()\n",
    "    X_train_scaled = scaler.fit_transform(X_train)\n",
    "    X_val_scaled = scaler.transform(X_val)\n",
    "    \n",
    "    lm_reg.fit(X_train_scaled, y_train)\n",
    "    cv_lm_reg_r2s.append(lm_reg.score(X_val_scaled, y_val))\n",
    "\n",
    "print('Simple regression scores: ', cv_lm_r2s)\n",
    "print('Ridge scores: ', cv_lm_reg_r2s, '\\n')\n",
    "\n",
    "print(f'Simple mean cv r^2: {np.mean(cv_lm_r2s):.3f} +- {np.std(cv_lm_r2s):.3f}')\n",
    "print(f'Ridge mean cv r^2: {np.mean(cv_lm_reg_r2s):.3f} +- {np.std(cv_lm_reg_r2s):.3f}')"
   ]
  },
  {
   "cell_type": "code",
   "execution_count": 29,
   "metadata": {},
   "outputs": [
    {
     "name": "stdout",
     "output_type": "stream",
     "text": [
      "Ridge Regression test R^2: 0.627\n"
     ]
    }
   ],
   "source": [
    "scaler = StandardScaler()\n",
    "X_scaled = scaler.fit_transform(X)\n",
    "X_test_scaled = scaler.transform(X_test)\n",
    "\n",
    "lm_reg = Ridge(alpha=1)\n",
    "lm_reg.fit(X_scaled,y)\n",
    "print(f'Ridge Regression test R^2: {lm_reg.score(X_test_scaled, y_test):.3f}')"
   ]
  },
  {
   "cell_type": "markdown",
   "metadata": {},
   "source": [
    "## K-fold"
   ]
  },
  {
   "cell_type": "code",
   "execution_count": 30,
   "metadata": {},
   "outputs": [
    {
     "data": {
      "text/plain": [
       "array([0.550615  , 0.6513686 , 0.44019961, 0.62673732, 0.30169595])"
      ]
     },
     "execution_count": 30,
     "metadata": {},
     "output_type": "execute_result"
    }
   ],
   "source": [
    "from sklearn.model_selection import cross_val_score\n",
    "lm1 = LinearRegression()\n",
    "\n",
    "cross_val_score(lm1, X, y, # estimator, features, target\n",
    "                cv=5, # number of folds \n",
    "                scoring='r2') # scoring metric"
   ]
  },
  {
   "cell_type": "code",
   "execution_count": 31,
   "metadata": {},
   "outputs": [
    {
     "name": "stdout",
     "output_type": "stream",
     "text": [
      "0.5448643606844045\n",
      "0.5448644380379208\n"
     ]
    }
   ],
   "source": [
    "kf = KFold(n_splits=5, shuffle=True, random_state = 70)\n",
    "\n",
    "print(np.mean(cross_val_score(lm1, X, y, cv=kf, scoring='r2')))\n",
    "print(np.mean(cross_val_score(lm_reg, X, y, cv=kf, scoring='r2')))"
   ]
  },
  {
   "cell_type": "markdown",
   "metadata": {},
   "source": [
    "## DATA Visualizing"
   ]
  },
  {
   "cell_type": "code",
   "execution_count": 32,
   "metadata": {},
   "outputs": [],
   "source": [
    "import statsmodels.api as sm\n",
    "import statsmodels.formula.api as smf\n",
    "import patsy\n",
    "\n",
    "import seaborn as sns\n",
    "import matplotlib.pyplot as plt\n",
    "from sklearn.linear_model import LinearRegression\n",
    "from sklearn.linear_model import RidgeCV\n",
    "%matplotlib inline\n"
   ]
  },
  {
   "cell_type": "code",
   "execution_count": 33,
   "metadata": {},
   "outputs": [
    {
     "data": {
      "text/html": [
       "<div>\n",
       "<style scoped>\n",
       "    .dataframe tbody tr th:only-of-type {\n",
       "        vertical-align: middle;\n",
       "    }\n",
       "\n",
       "    .dataframe tbody tr th {\n",
       "        vertical-align: top;\n",
       "    }\n",
       "\n",
       "    .dataframe thead th {\n",
       "        text-align: right;\n",
       "    }\n",
       "</style>\n",
       "<table border=\"1\" class=\"dataframe\">\n",
       "  <thead>\n",
       "    <tr style=\"text-align: right;\">\n",
       "      <th></th>\n",
       "      <th>IMDB_RATE</th>\n",
       "      <th>years</th>\n",
       "      <th>metascore</th>\n",
       "      <th>timeMin</th>\n",
       "      <th>votes</th>\n",
       "      <th>US_grossM</th>\n",
       "    </tr>\n",
       "  </thead>\n",
       "  <tbody>\n",
       "    <tr>\n",
       "      <th>1</th>\n",
       "      <td>7.6</td>\n",
       "      <td>1990</td>\n",
       "      <td>63.0</td>\n",
       "      <td>103</td>\n",
       "      <td>519789</td>\n",
       "      <td>285.76</td>\n",
       "    </tr>\n",
       "    <tr>\n",
       "      <th>3</th>\n",
       "      <td>7.8</td>\n",
       "      <td>1984</td>\n",
       "      <td>71.0</td>\n",
       "      <td>105</td>\n",
       "      <td>386036</td>\n",
       "      <td>238.63</td>\n",
       "    </tr>\n",
       "    <tr>\n",
       "      <th>4</th>\n",
       "      <td>7.6</td>\n",
       "      <td>2001</td>\n",
       "      <td>65.0</td>\n",
       "      <td>152</td>\n",
       "      <td>713840</td>\n",
       "      <td>317.58</td>\n",
       "    </tr>\n",
       "    <tr>\n",
       "      <th>5</th>\n",
       "      <td>8.7</td>\n",
       "      <td>1999</td>\n",
       "      <td>73.0</td>\n",
       "      <td>136</td>\n",
       "      <td>1784332</td>\n",
       "      <td>171.48</td>\n",
       "    </tr>\n",
       "    <tr>\n",
       "      <th>6</th>\n",
       "      <td>8.4</td>\n",
       "      <td>2019</td>\n",
       "      <td>78.0</td>\n",
       "      <td>181</td>\n",
       "      <td>968981</td>\n",
       "      <td>858.37</td>\n",
       "    </tr>\n",
       "  </tbody>\n",
       "</table>\n",
       "</div>"
      ],
      "text/plain": [
       "   IMDB_RATE  years  metascore  timeMin    votes  US_grossM\n",
       "1        7.6   1990       63.0      103   519789     285.76\n",
       "3        7.8   1984       71.0      105   386036     238.63\n",
       "4        7.6   2001       65.0      152   713840     317.58\n",
       "5        8.7   1999       73.0      136  1784332     171.48\n",
       "6        8.4   2019       78.0      181   968981     858.37"
      ]
     },
     "execution_count": 33,
     "metadata": {},
     "output_type": "execute_result"
    }
   ],
   "source": [
    "# reordring the columns since the metascore is our output variable \n",
    "\n",
    "MOVIE=Moviees.reindex(columns= ['IMDB_RATE','years','metascore','timeMin','votes','US_grossM'])\n",
    "MOVIE.head()"
   ]
  },
  {
   "cell_type": "code",
   "execution_count": 34,
   "metadata": {},
   "outputs": [
    {
     "data": {
      "text/html": [
       "<div>\n",
       "<style scoped>\n",
       "    .dataframe tbody tr th:only-of-type {\n",
       "        vertical-align: middle;\n",
       "    }\n",
       "\n",
       "    .dataframe tbody tr th {\n",
       "        vertical-align: top;\n",
       "    }\n",
       "\n",
       "    .dataframe thead th {\n",
       "        text-align: right;\n",
       "    }\n",
       "</style>\n",
       "<table border=\"1\" class=\"dataframe\">\n",
       "  <thead>\n",
       "    <tr style=\"text-align: right;\">\n",
       "      <th></th>\n",
       "      <th>IMDB_RATE</th>\n",
       "      <th>years</th>\n",
       "      <th>metascore</th>\n",
       "      <th>timeMin</th>\n",
       "      <th>votes</th>\n",
       "      <th>US_grossM</th>\n",
       "    </tr>\n",
       "  </thead>\n",
       "  <tbody>\n",
       "    <tr>\n",
       "      <th>IMDB_RATE</th>\n",
       "      <td>1.000000</td>\n",
       "      <td>-0.192127</td>\n",
       "      <td>0.271743</td>\n",
       "      <td>0.256006</td>\n",
       "      <td>0.604609</td>\n",
       "      <td>0.104874</td>\n",
       "    </tr>\n",
       "    <tr>\n",
       "      <th>years</th>\n",
       "      <td>-0.192127</td>\n",
       "      <td>1.000000</td>\n",
       "      <td>-0.316053</td>\n",
       "      <td>0.016060</td>\n",
       "      <td>0.217263</td>\n",
       "      <td>0.251586</td>\n",
       "    </tr>\n",
       "    <tr>\n",
       "      <th>metascore</th>\n",
       "      <td>0.271743</td>\n",
       "      <td>-0.316053</td>\n",
       "      <td>1.000000</td>\n",
       "      <td>-0.009532</td>\n",
       "      <td>-0.008673</td>\n",
       "      <td>-0.051628</td>\n",
       "    </tr>\n",
       "    <tr>\n",
       "      <th>timeMin</th>\n",
       "      <td>0.256006</td>\n",
       "      <td>0.016060</td>\n",
       "      <td>-0.009532</td>\n",
       "      <td>1.000000</td>\n",
       "      <td>0.209798</td>\n",
       "      <td>0.160741</td>\n",
       "    </tr>\n",
       "    <tr>\n",
       "      <th>votes</th>\n",
       "      <td>0.604609</td>\n",
       "      <td>0.217263</td>\n",
       "      <td>-0.008673</td>\n",
       "      <td>0.209798</td>\n",
       "      <td>1.000000</td>\n",
       "      <td>0.555150</td>\n",
       "    </tr>\n",
       "    <tr>\n",
       "      <th>US_grossM</th>\n",
       "      <td>0.104874</td>\n",
       "      <td>0.251586</td>\n",
       "      <td>-0.051628</td>\n",
       "      <td>0.160741</td>\n",
       "      <td>0.555150</td>\n",
       "      <td>1.000000</td>\n",
       "    </tr>\n",
       "  </tbody>\n",
       "</table>\n",
       "</div>"
      ],
      "text/plain": [
       "           IMDB_RATE     years  metascore   timeMin     votes  US_grossM\n",
       "IMDB_RATE   1.000000 -0.192127   0.271743  0.256006  0.604609   0.104874\n",
       "years      -0.192127  1.000000  -0.316053  0.016060  0.217263   0.251586\n",
       "metascore   0.271743 -0.316053   1.000000 -0.009532 -0.008673  -0.051628\n",
       "timeMin     0.256006  0.016060  -0.009532  1.000000  0.209798   0.160741\n",
       "votes       0.604609  0.217263  -0.008673  0.209798  1.000000   0.555150\n",
       "US_grossM   0.104874  0.251586  -0.051628  0.160741  0.555150   1.000000"
      ]
     },
     "execution_count": 34,
     "metadata": {},
     "output_type": "execute_result"
    }
   ],
   "source": [
    "MOVIE.corr()"
   ]
  },
  {
   "cell_type": "code",
   "execution_count": 35,
   "metadata": {},
   "outputs": [
    {
     "data": {
      "image/png": "[encoded data removed]",
      "text/plain": [
       "<Figure size 432x288 with 2 Axes>"
      ]
     },
     "metadata": {
      "needs_background": "light"
     },
     "output_type": "display_data"
    }
   ],
   "source": [
    "# for a better corr matrix\n",
    "sns.heatmap(MOVIE.corr(), cmap=\"seismic\", annot=True, vmin=-1, vmax=1);"
   ]
  },
  {
   "cell_type": "code",
   "execution_count": 36,
   "metadata": {},
   "outputs": [
    {
     "data": {
      "image/png": "[encoded data removed]",
      "text/plain": [
       "<Figure size 777.6x518.4 with 42 Axes>"
      ]
     },
     "metadata": {
      "needs_background": "light"
     },
     "output_type": "display_data"
    }
   ],
   "source": [
    "# Plot all of the variable-to-variable relations as scatterplots\n",
    "sns.pairplot(MOVIE, height=1.2, aspect=1.5);"
   ]
  },
  {
   "cell_type": "markdown",
   "metadata": {},
   "source": [
    "# Regression Statistics"
   ]
  },
  {
   "cell_type": "code",
   "execution_count": 37,
   "metadata": {},
   "outputs": [
    {
     "data": {
      "text/html": [
       "<table class=\"simpletable\">\n",
       "<caption>OLS Regression Results</caption>\n",
       "<tr>\n",
       "  <th>Dep. Variable:</th>        <td>IMDB_RATE</td>    <th>  R-squared:         </th> <td>   0.578</td> \n",
       "</tr>\n",
       "<tr>\n",
       "  <th>Model:</th>                   <td>OLS</td>       <th>  Adj. R-squared:    </th> <td>   0.575</td> \n",
       "</tr>\n",
       "<tr>\n",
       "  <th>Method:</th>             <td>Least Squares</td>  <th>  F-statistic:       </th> <td>   190.6</td> \n",
       "</tr>\n",
       "<tr>\n",
       "  <th>Date:</th>             <td>Tue, 07 Dec 2021</td> <th>  Prob (F-statistic):</th> <td>1.10e-127</td>\n",
       "</tr>\n",
       "<tr>\n",
       "  <th>Time:</th>                 <td>20:10:45</td>     <th>  Log-Likelihood:    </th> <td>  181.71</td> \n",
       "</tr>\n",
       "<tr>\n",
       "  <th>No. Observations:</th>      <td>   701</td>      <th>  AIC:               </th> <td>  -351.4</td> \n",
       "</tr>\n",
       "<tr>\n",
       "  <th>Df Residuals:</th>          <td>   695</td>      <th>  BIC:               </th> <td>  -324.1</td> \n",
       "</tr>\n",
       "<tr>\n",
       "  <th>Df Model:</th>              <td>     5</td>      <th>                     </th>     <td> </td>    \n",
       "</tr>\n",
       "<tr>\n",
       "  <th>Covariance Type:</th>      <td>nonrobust</td>    <th>                     </th>     <td> </td>    \n",
       "</tr>\n",
       "</table>\n",
       "<table class=\"simpletable\">\n",
       "<tr>\n",
       "      <td></td>         <th>coef</th>     <th>std err</th>      <th>t</th>      <th>P>|t|</th>  <th>[0.025</th>    <th>0.975]</th>  \n",
       "</tr>\n",
       "<tr>\n",
       "  <th>Intercept</th> <td>   14.0348</td> <td>    0.805</td> <td>   17.432</td> <td> 0.000</td> <td>   12.454</td> <td>   15.616</td>\n",
       "</tr>\n",
       "<tr>\n",
       "  <th>years</th>     <td>   -0.0034</td> <td>    0.000</td> <td>   -8.618</td> <td> 0.000</td> <td>   -0.004</td> <td>   -0.003</td>\n",
       "</tr>\n",
       "<tr>\n",
       "  <th>timeMin</th>   <td>    0.0016</td> <td>    0.000</td> <td>    5.650</td> <td> 0.000</td> <td>    0.001</td> <td>    0.002</td>\n",
       "</tr>\n",
       "<tr>\n",
       "  <th>metascore</th> <td>    0.0045</td> <td>    0.001</td> <td>    7.364</td> <td> 0.000</td> <td>    0.003</td> <td>    0.006</td>\n",
       "</tr>\n",
       "<tr>\n",
       "  <th>votes</th>     <td> 5.945e-07</td> <td> 2.28e-08</td> <td>   26.052</td> <td> 0.000</td> <td>  5.5e-07</td> <td> 6.39e-07</td>\n",
       "</tr>\n",
       "<tr>\n",
       "  <th>US_grossM</th> <td>   -0.0007</td> <td> 7.44e-05</td> <td>   -9.503</td> <td> 0.000</td> <td>   -0.001</td> <td>   -0.001</td>\n",
       "</tr>\n",
       "</table>\n",
       "<table class=\"simpletable\">\n",
       "<tr>\n",
       "  <th>Omnibus:</th>       <td>36.354</td> <th>  Durbin-Watson:     </th> <td>   2.020</td>\n",
       "</tr>\n",
       "<tr>\n",
       "  <th>Prob(Omnibus):</th> <td> 0.000</td> <th>  Jarque-Bera (JB):  </th> <td>  41.066</td>\n",
       "</tr>\n",
       "<tr>\n",
       "  <th>Skew:</th>          <td> 0.549</td> <th>  Prob(JB):          </th> <td>1.21e-09</td>\n",
       "</tr>\n",
       "<tr>\n",
       "  <th>Kurtosis:</th>      <td> 3.446</td> <th>  Cond. No.          </th> <td>6.07e+07</td>\n",
       "</tr>\n",
       "</table><br/><br/>Notes:<br/>[1] Standard Errors assume that the covariance matrix of the errors is correctly specified.<br/>[2] The condition number is large, 6.07e+07. This might indicate that there are<br/>strong multicollinearity or other numerical problems."
      ],
      "text/plain": [
       "<class 'statsmodels.iolib.summary.Summary'>\n",
       "\"\"\"\n",
       "                            OLS Regression Results                            \n",
       "==============================================================================\n",
       "Dep. Variable:              IMDB_RATE   R-squared:                       0.578\n",
       "Model:                            OLS   Adj. R-squared:                  0.575\n",
       "Method:                 Least Squares   F-statistic:                     190.6\n",
       "Date:                Tue, 07 Dec 2021   Prob (F-statistic):          1.10e-127\n",
       "Time:                        20:10:45   Log-Likelihood:                 181.71\n",
       "No. Observations:                 701   AIC:                            -351.4\n",
       "Df Residuals:                     695   BIC:                            -324.1\n",
       "Df Model:                           5                                         \n",
       "Covariance Type:            nonrobust                                         \n",
       "==============================================================================\n",
       "                 coef    std err          t      P>|t|      [0.025      0.975]\n",
       "------------------------------------------------------------------------------\n",
       "Intercept     14.0348      0.805     17.432      0.000      12.454      15.616\n",
       "years         -0.0034      0.000     -8.618      0.000      -0.004      -0.003\n",
       "timeMin        0.0016      0.000      5.650      0.000       0.001       0.002\n",
       "metascore      0.0045      0.001      7.364      0.000       0.003       0.006\n",
       "votes       5.945e-07   2.28e-08     26.052      0.000     5.5e-07    6.39e-07\n",
       "US_grossM     -0.0007   7.44e-05     -9.503      0.000      -0.001      -0.001\n",
       "==============================================================================\n",
       "Omnibus:                       36.354   Durbin-Watson:                   2.020\n",
       "Prob(Omnibus):                  0.000   Jarque-Bera (JB):               41.066\n",
       "Skew:                           0.549   Prob(JB):                     1.21e-09\n",
       "Kurtosis:                       3.446   Cond. No.                     6.07e+07\n",
       "==============================================================================\n",
       "\n",
       "Notes:\n",
       "[1] Standard Errors assume that the covariance matrix of the errors is correctly specified.\n",
       "[2] The condition number is large, 6.07e+07. This might indicate that there are\n",
       "strong multicollinearity or other numerical problems.\n",
       "\"\"\""
      ]
     },
     "execution_count": 37,
     "metadata": {},
     "output_type": "execute_result"
    }
   ],
   "source": [
    "# Create  feature matrix (X) and target vector (y)\n",
    "y, X = patsy.dmatrices(' IMDB_RATE  ~ years  + timeMin +metascore+ votes + US_grossM ', data=MOVIE, return_type=\"dataframe\")\n",
    "\n",
    "# Create  model\n",
    "model = sm.OLS(y, X)\n",
    "\n",
    "# Fit the model to the training set\n",
    "fit = model.fit()\n",
    "\n",
    "# Print summary statistics of the model's performance\n",
    "fit.summary()"
   ]
  },
  {
   "cell_type": "code",
   "execution_count": 38,
   "metadata": {},
   "outputs": [
    {
     "data": {
      "image/png": "[encoded data removed]",
      "text/plain": [
       "<Figure size 864x576 with 1 Axes>"
      ]
     },
     "metadata": {
      "needs_background": "light"
     },
     "output_type": "display_data"
    }
   ],
   "source": [
    "fit.resid.plot(style='o', figsize=(12,8));"
   ]
  },
  {
   "cell_type": "code",
   "execution_count": 39,
   "metadata": {},
   "outputs": [
    {
     "name": "stderr",
     "output_type": "stream",
     "text": [
      "C:\\Users\\hp\\anaconda3\\lib\\site-packages\\seaborn\\_decorators.py:36: FutureWarning: Pass the following variables as keyword args: x, y. From version 0.12, the only valid positional argument will be `data`, and passing other arguments without an explicit keyword will result in an error or misinterpretation.\n",
      "  warnings.warn(\n"
     ]
    },
    {
     "data": {
      "text/plain": [
       "[None, None]"
      ]
     },
     "execution_count": 39,
     "metadata": {},
     "output_type": "execute_result"
    },
    {
     "data": {
      "image/png": "[encoded data removed]",
      "text/plain": [
       "<Figure size 720x576 with 1 Axes>"
      ]
     },
     "metadata": {
      "needs_background": "light"
     },
     "output_type": "display_data"
    }
   ],
   "source": [
    "plt.figure(figsize=(10,8))\n",
    "rat=sns.regplot(Moviees.IMDB_RATE,Moviees.votes)\n",
    "plt.line_kws={\"color\":\"blue\"}\n",
    "rat.set(xscale=\"log\",yscale=\"log\")\n",
    "plt.show()\n",
    "sns.regplot(x= \"IMDB_RATE\", y=\"votes\",data=Moviees,fit_reg=False,scatter_kws={\"alpha\":0.2})\n"
   ]
  },
  {
   "cell_type": "code",
   "execution_count": null,
   "metadata": {},
   "outputs": [],
   "source": []
  },
  {
   "cell_type": "code",
   "execution_count": 40,
   "metadata": {},
   "outputs": [
    {
     "name": "stderr",
     "output_type": "stream",
     "text": [
      "C:\\Users\\hp\\anaconda3\\lib\\site-packages\\seaborn\\_decorators.py:36: FutureWarning: Pass the following variables as keyword args: x, y. From version 0.12, the only valid positional argument will be `data`, and passing other arguments without an explicit keyword will result in an error or misinterpretation.\n",
      "  warnings.warn(\n"
     ]
    },
    {
     "data": {
      "image/png": "[encoded data removed]",
      "text/plain": [
       "<Figure size 432x288 with 1 Axes>"
      ]
     },
     "metadata": {
      "needs_background": "light"
     },
     "output_type": "display_data"
    }
   ],
   "source": [
    "rat=sns.regplot(Moviees.IMDB_RATE,Moviees.votes)\n",
    "sns.regplot(x= \"IMDB_RATE\", y=\"votes\",data=Moviees,fit_reg=False,scatter_kws={\"alpha\":0.2},line_kws={\"color\":\"black\"})\n",
    "plt.show()"
   ]
  },
  {
   "cell_type": "markdown",
   "metadata": {},
   "source": [
    "# prediction"
   ]
  },
  {
   "cell_type": "code",
   "execution_count": 41,
   "metadata": {},
   "outputs": [
    {
     "data": {
      "text/plain": [
       "array([7.98230626, 8.69023834, 7.79408734, 8.11430582, 7.7234576 ])"
      ]
     },
     "execution_count": 41,
     "metadata": {},
     "output_type": "execute_result"
    }
   ],
   "source": [
    "lm.predict(X_test.head())"
   ]
  },
  {
   "cell_type": "code",
   "execution_count": 42,
   "metadata": {},
   "outputs": [
    {
     "data": {
      "text/html": [
       "<div>\n",
       "<style scoped>\n",
       "    .dataframe tbody tr th:only-of-type {\n",
       "        vertical-align: middle;\n",
       "    }\n",
       "\n",
       "    .dataframe tbody tr th {\n",
       "        vertical-align: top;\n",
       "    }\n",
       "\n",
       "    .dataframe thead th {\n",
       "        text-align: right;\n",
       "    }\n",
       "</style>\n",
       "<table border=\"1\" class=\"dataframe\">\n",
       "  <thead>\n",
       "    <tr style=\"text-align: right;\">\n",
       "      <th></th>\n",
       "      <th>years</th>\n",
       "      <th>timeMin</th>\n",
       "      <th>metascore</th>\n",
       "      <th>votes</th>\n",
       "      <th>US_grossM</th>\n",
       "    </tr>\n",
       "  </thead>\n",
       "  <tbody>\n",
       "    <tr>\n",
       "      <th>209</th>\n",
       "      <td>2014</td>\n",
       "      <td>117</td>\n",
       "      <td>76.0</td>\n",
       "      <td>503622</td>\n",
       "      <td>32.38</td>\n",
       "    </tr>\n",
       "    <tr>\n",
       "      <th>86</th>\n",
       "      <td>2003</td>\n",
       "      <td>201</td>\n",
       "      <td>94.0</td>\n",
       "      <td>1728234</td>\n",
       "      <td>377.85</td>\n",
       "    </tr>\n",
       "    <tr>\n",
       "      <th>926</th>\n",
       "      <td>2007</td>\n",
       "      <td>122</td>\n",
       "      <td>85.0</td>\n",
       "      <td>31670</td>\n",
       "      <td>0.74</td>\n",
       "    </tr>\n",
       "    <tr>\n",
       "      <th>466</th>\n",
       "      <td>1950</td>\n",
       "      <td>138</td>\n",
       "      <td>98.0</td>\n",
       "      <td>127015</td>\n",
       "      <td>0.01</td>\n",
       "    </tr>\n",
       "    <tr>\n",
       "      <th>356</th>\n",
       "      <td>2008</td>\n",
       "      <td>94</td>\n",
       "      <td>55.0</td>\n",
       "      <td>204984</td>\n",
       "      <td>9.03</td>\n",
       "    </tr>\n",
       "  </tbody>\n",
       "</table>\n",
       "</div>"
      ],
      "text/plain": [
       "     years  timeMin  metascore    votes  US_grossM\n",
       "209   2014      117       76.0   503622      32.38\n",
       "86    2003      201       94.0  1728234     377.85\n",
       "926   2007      122       85.0    31670       0.74\n",
       "466   1950      138       98.0   127015       0.01\n",
       "356   2008       94       55.0   204984       9.03"
      ]
     },
     "execution_count": 42,
     "metadata": {},
     "output_type": "execute_result"
    }
   ],
   "source": [
    "X_test.head(5)"
   ]
  },
  {
   "cell_type": "code",
   "execution_count": 43,
   "metadata": {},
   "outputs": [
    {
     "data": {
      "text/plain": [
       "209    7.8\n",
       "86     8.9\n",
       "926    7.8\n",
       "466    8.2\n",
       "356    7.8\n",
       "Name: IMDB_RATE, dtype: float64"
      ]
     },
     "execution_count": 43,
     "metadata": {},
     "output_type": "execute_result"
    }
   ],
   "source": [
    "y_test.head(5)"
   ]
  },
  {
   "cell_type": "markdown",
   "metadata": {},
   "source": [
    "# prediction for top 5 IMDB rating"
   ]
  },
  {
   "cell_type": "code",
   "execution_count": 44,
   "metadata": {},
   "outputs": [
    {
     "data": {
      "text/html": [
       "<div>\n",
       "<style scoped>\n",
       "    .dataframe tbody tr th:only-of-type {\n",
       "        vertical-align: middle;\n",
       "    }\n",
       "\n",
       "    .dataframe tbody tr th {\n",
       "        vertical-align: top;\n",
       "    }\n",
       "\n",
       "    .dataframe thead th {\n",
       "        text-align: right;\n",
       "    }\n",
       "</style>\n",
       "<table border=\"1\" class=\"dataframe\">\n",
       "  <thead>\n",
       "    <tr style=\"text-align: right;\">\n",
       "      <th></th>\n",
       "      <th>movie</th>\n",
       "      <th>years</th>\n",
       "      <th>IMDB_RATE</th>\n",
       "      <th>metascore</th>\n",
       "      <th>timeMin</th>\n",
       "      <th>votes</th>\n",
       "      <th>US_grossM</th>\n",
       "    </tr>\n",
       "  </thead>\n",
       "  <tbody>\n",
       "    <tr>\n",
       "      <th>8</th>\n",
       "      <td>The Shawshank Redemption</td>\n",
       "      <td>1994</td>\n",
       "      <td>9.3</td>\n",
       "      <td>80.0</td>\n",
       "      <td>142</td>\n",
       "      <td>2501180</td>\n",
       "      <td>28.34</td>\n",
       "    </tr>\n",
       "    <tr>\n",
       "      <th>21</th>\n",
       "      <td>The Dark Knight</td>\n",
       "      <td>2008</td>\n",
       "      <td>9.0</td>\n",
       "      <td>84.0</td>\n",
       "      <td>152</td>\n",
       "      <td>2451090</td>\n",
       "      <td>534.86</td>\n",
       "    </tr>\n",
       "    <tr>\n",
       "      <th>23</th>\n",
       "      <td>Inception</td>\n",
       "      <td>2010</td>\n",
       "      <td>8.8</td>\n",
       "      <td>74.0</td>\n",
       "      <td>148</td>\n",
       "      <td>2199445</td>\n",
       "      <td>292.58</td>\n",
       "    </tr>\n",
       "    <tr>\n",
       "      <th>33</th>\n",
       "      <td>Fight Club</td>\n",
       "      <td>1999</td>\n",
       "      <td>8.8</td>\n",
       "      <td>66.0</td>\n",
       "      <td>139</td>\n",
       "      <td>1967700</td>\n",
       "      <td>37.03</td>\n",
       "    </tr>\n",
       "    <tr>\n",
       "      <th>53</th>\n",
       "      <td>Forrest Gump</td>\n",
       "      <td>1994</td>\n",
       "      <td>8.8</td>\n",
       "      <td>82.0</td>\n",
       "      <td>142</td>\n",
       "      <td>1930604</td>\n",
       "      <td>330.25</td>\n",
       "    </tr>\n",
       "  </tbody>\n",
       "</table>\n",
       "</div>"
      ],
      "text/plain": [
       "                       movie  years  IMDB_RATE  metascore  timeMin    votes  \\\n",
       "8   The Shawshank Redemption   1994        9.3       80.0      142  2501180   \n",
       "21           The Dark Knight   2008        9.0       84.0      152  2451090   \n",
       "23                 Inception   2010        8.8       74.0      148  2199445   \n",
       "33                Fight Club   1999        8.8       66.0      139  1967700   \n",
       "53              Forrest Gump   1994        8.8       82.0      142  1930604   \n",
       "\n",
       "    US_grossM  \n",
       "8       28.34  \n",
       "21     534.86  \n",
       "23     292.58  \n",
       "33      37.03  \n",
       "53     330.25  "
      ]
     },
     "execution_count": 44,
     "metadata": {},
     "output_type": "execute_result"
    }
   ],
   "source": [
    "Movies_top_Rating= Moviees.sort_values([\"votes\"],ascending=False)\n",
    "Movies_Top_Rating=Movies_top_Rating.join(movies.movie) \n",
    "Movies_Top_Rating=Movies_Top_Rating.reindex(columns= ['movie','years','IMDB_RATE','metascore','timeMin','votes','US_grossM'])\n",
    "Movies_Top_Rating.head()\n"
   ]
  },
  {
   "cell_type": "code",
   "execution_count": 45,
   "metadata": {},
   "outputs": [
    {
     "data": {
      "text/html": [
       "<div>\n",
       "<style scoped>\n",
       "    .dataframe tbody tr th:only-of-type {\n",
       "        vertical-align: middle;\n",
       "    }\n",
       "\n",
       "    .dataframe tbody tr th {\n",
       "        vertical-align: top;\n",
       "    }\n",
       "\n",
       "    .dataframe thead th {\n",
       "        text-align: right;\n",
       "    }\n",
       "</style>\n",
       "<table border=\"1\" class=\"dataframe\">\n",
       "  <thead>\n",
       "    <tr style=\"text-align: right;\">\n",
       "      <th></th>\n",
       "      <th>years</th>\n",
       "      <th>timeMn</th>\n",
       "      <th>metascore</th>\n",
       "      <th>votes</th>\n",
       "      <th>US_grossM</th>\n",
       "    </tr>\n",
       "  </thead>\n",
       "  <tbody>\n",
       "    <tr>\n",
       "      <th>0</th>\n",
       "      <td>1994</td>\n",
       "      <td>142</td>\n",
       "      <td>80.0</td>\n",
       "      <td>2501166</td>\n",
       "      <td>28.34</td>\n",
       "    </tr>\n",
       "    <tr>\n",
       "      <th>1</th>\n",
       "      <td>2008</td>\n",
       "      <td>152</td>\n",
       "      <td>84.0</td>\n",
       "      <td>2451071</td>\n",
       "      <td>534.86</td>\n",
       "    </tr>\n",
       "    <tr>\n",
       "      <th>2</th>\n",
       "      <td>2010</td>\n",
       "      <td>148</td>\n",
       "      <td>74.0</td>\n",
       "      <td>2199430</td>\n",
       "      <td>292.58</td>\n",
       "    </tr>\n",
       "    <tr>\n",
       "      <th>3</th>\n",
       "      <td>1999</td>\n",
       "      <td>139</td>\n",
       "      <td>66.0</td>\n",
       "      <td>1967682</td>\n",
       "      <td>37.03</td>\n",
       "    </tr>\n",
       "    <tr>\n",
       "      <th>4</th>\n",
       "      <td>1994</td>\n",
       "      <td>142</td>\n",
       "      <td>82.0</td>\n",
       "      <td>1930591</td>\n",
       "      <td>330.25</td>\n",
       "    </tr>\n",
       "  </tbody>\n",
       "</table>\n",
       "</div>"
      ],
      "text/plain": [
       "   years  timeMn  metascore    votes  US_grossM\n",
       "0   1994     142       80.0  2501166      28.34\n",
       "1   2008     152       84.0  2451071     534.86\n",
       "2   2010     148       74.0  2199430     292.58\n",
       "3   1999     139       66.0  1967682      37.03\n",
       "4   1994     142       82.0  1930591     330.25"
      ]
     },
     "execution_count": 45,
     "metadata": {},
     "output_type": "execute_result"
    }
   ],
   "source": [
    "# we will enter the X_data and use the trained model to predicat the IMDB rating\n",
    "\n",
    "\n",
    "top_5 = pd.DataFrame({\n",
    "\n",
    "    'years' : [1994,2008,2010,1999,1994],\n",
    "    'timeMn' : [142,152,148,139,142],\n",
    "    'metascore':[80.0,84.0,74.0,66.0,82.0],\n",
    "    'votes' : [2501166,2451071,2199430,1967682,1930591],\n",
    "     'US_grossM': [28.34,534.86,292.58,37.03,330.25]\n",
    "})\n",
    "top_5.head()"
   ]
  },
  {
   "cell_type": "code",
   "execution_count": 46,
   "metadata": {},
   "outputs": [
    {
     "data": {
      "text/plain": [
       "array([9.28156541, 8.86992625, 8.84483244, 8.88399824, 8.73443468])"
      ]
     },
     "execution_count": 46,
     "metadata": {},
     "output_type": "execute_result"
    }
   ],
   "source": [
    "#the data predicated\n",
    "rate_pr=lm.predict(top_5.head())\n",
    "rate_pr "
   ]
  },
  {
   "cell_type": "code",
   "execution_count": 47,
   "metadata": {},
   "outputs": [
    {
     "data": {
      "text/plain": [
       "8     9.3\n",
       "21    9.0\n",
       "23    8.8\n",
       "33    8.8\n",
       "53    8.8\n",
       "Name: IMDB_RATE, dtype: float64"
      ]
     },
     "execution_count": 47,
     "metadata": {},
     "output_type": "execute_result"
    }
   ],
   "source": [
    "Movies_Top_Rating.IMDB_RATE.head(5)\n"
   ]
  },
  {
   "cell_type": "code",
   "execution_count": 48,
   "metadata": {
    "scrolled": true
   },
   "outputs": [
    {
     "name": "stderr",
     "output_type": "stream",
     "text": [
      "No handles with labels found to put in legend.\n"
     ]
    },
    {
     "data": {
      "text/plain": [
       "<matplotlib.legend.Legend at 0x2614e9080d0>"
      ]
     },
     "execution_count": 48,
     "metadata": {},
     "output_type": "execute_result"
    },
    {
     "data": {
      "image/png": "[encoded data removed]",
      "text/plain": [
       "<Figure size 432x288 with 1 Axes>"
      ]
     },
     "metadata": {
      "needs_background": "light"
     },
     "output_type": "display_data"
    }
   ],
   "source": [
    "y=[1,2,3,4,5]\n",
    "plt.scatter(Movies_Top_Rating.IMDB_RATE.head(5),y)\n",
    "plt.plot(Movies_Top_Rating.IMDB_RATE.head(5),y, '.r-')\n",
    "plt.scatter(rate_pr,y)\n",
    "plt.plot(rate_pr,y, '.b-')\n",
    "plt.xlabel('IMDB-RATE')\n",
    "plt.ylabel('Y')\n",
    "plt.legend(ncol=2)\n",
    "plt.axis('equal')\n",
    "plt.axis('square')\n",
    "_ = plt.plot([-50, 50], [-50, 50])\n",
    "plt.legend([\"true\", \"predicted\"], loc =\"upper right\")\n",
    "  "
   ]
  },
  {
   "cell_type": "code",
   "execution_count": null,
   "metadata": {},
   "outputs": [],
   "source": []
  },
  {
   "cell_type": "code",
   "execution_count": 28,
   "metadata": {},
   "outputs": [
    {
     "data": {
      "image/png": "[encoded data removed]",
      "text/plain": [
       "<Figure size 432x288 with 1 Axes>"
      ]
     },
     "metadata": {
      "needs_background": "light"
     },
     "output_type": "display_data"
    }
   ],
   "source": [
    "import matplotlib.pyplot as plt\n",
    "import numpy as np\n",
    "\n",
    "x = np.linspace(-1.2,1.2,20)\n",
    "y = np.sin(x)\n",
    "dy = (np.random.rand(20)-0.5)*0.5\n",
    "\n",
    "fig, ax = plt.subplots()\n",
    "ax.plot(x,y)\n",
    "ax.scatter(x,y+dy)\n",
    "\n",
    "ax.vlines(x,y,y+dy)\n",
    "\n",
    "plt.show()"
   ]
  }
 ],
 "metadata": {
  "kernelspec": {
   "display_name": "Python 3",
   "language": "python",
   "name": "python3"
  },
  "language_info": {
   "codemirror_mode": {
    "name": "ipython",
    "version": 3
   },
   "file_extension": ".py",
   "mimetype": "text/x-python",
   "name": "python",
   "nbconvert_exporter": "python",
   "pygments_lexer": "ipython3",
   "version": "3.8.8"
  }
 },
 "nbformat": 4,
 "nbformat_minor": 2
}
